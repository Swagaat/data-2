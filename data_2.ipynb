{
  "nbformat": 4,
  "nbformat_minor": 0,
  "metadata": {
    "colab": {
      "provenance": [],
      "authorship_tag": "ABX9TyP+h80gzDBW1g5xNJYLBxU0",
      "include_colab_link": true
    },
    "kernelspec": {
      "name": "python3",
      "display_name": "Python 3"
    },
    "language_info": {
      "name": "python"
    }
  },
  "cells": [
    {
      "cell_type": "markdown",
      "metadata": {
        "id": "view-in-github",
        "colab_type": "text"
      },
      "source": [
        "<a href=\"https://colab.research.google.com/github/Swagaat/data-2/blob/main/data_2.ipynb\" target=\"_parent\"><img src=\"https://colab.research.google.com/assets/colab-badge.svg\" alt=\"Open In Colab\"/></a>"
      ]
    },
    {
      "cell_type": "code",
      "source": [
        "#Solution-1:\n",
        "class Node:\n",
        "    def __init__(self, val):\n",
        "        self.val = val\n",
        "        self.next = None\n",
        "\n",
        "def LL_string(s):\n",
        "    # split the string by '->'\n",
        "    nodes = s.split('->')[1:-1]\n",
        "    # create a linked list of Nodes from the list of values\n",
        "    head = Node(None)\n",
        "    curr = head\n",
        "    for val in nodes:\n",
        "        curr.next = Node(val)\n",
        "        curr = curr.next\n",
        "    return head.next\n",
        "\n",
        "def srt_LL(head):\n",
        "    # convert the linked list to a list\n",
        "    node_vals = []\n",
        "    curr = head\n",
        "    while curr:\n",
        "        node_vals.append(curr.val)\n",
        "        curr = curr.next\n",
        "    # sort the list in ascending order\n",
        "    node_vals.sort()\n",
        "    # create a new linked list from the sorted list\n",
        "    new_head = Node(None)\n",
        "    curr = new_head\n",
        "    for val in node_vals:\n",
        "        curr.next = Node(val)\n",
        "        curr = curr.next\n",
        "    return new_head.next\n",
        "ls = \"Head->D->A->C->A->G->NULL\"\n",
        "head = LL_string(ls)\n",
        "sorted_head = srt_LL(head)\n",
        "\n",
        "# print the sorted linked list\n",
        "curr = sorted_head\n",
        "while curr:\n",
        "    print(curr.val, end=' ')\n",
        "    curr = curr.next\n",
        "\n"
      ],
      "metadata": {
        "colab": {
          "base_uri": "https://localhost:8080/"
        },
        "id": "bsJxPHZpQ_jR",
        "outputId": "302617b7-ae88-4f48-c6d6-5d9f4d168b2e"
      },
      "execution_count": 14,
      "outputs": [
        {
          "output_type": "stream",
          "name": "stdout",
          "text": [
            "A A C D G "
          ]
        }
      ]
    },
    {
      "cell_type": "code",
      "source": [
        "#Solution-2:\n",
        "class Node:\n",
        "    def __init__(self, data):\n",
        "        self.data = data\n",
        "        self.next = None\n",
        "\n",
        "def LL_add(u, v):\n",
        "    # range both linked lists and extract the numbers they represent\n",
        "    num_u, num_v = 0, 0\n",
        "    curr = u.next\n",
        "    while curr:\n",
        "        num_u = num_u * 10 + curr.data\n",
        "        curr = curr.next\n",
        "    curr = v.next\n",
        "    while curr:\n",
        "        num_v = num_v * 10 + curr.data\n",
        "        curr = curr.next\n",
        "\n",
        "    # Calculate the sum of the two numbers\n",
        "    num_sum = num_u + num_v\n",
        "\n",
        "    # Build the resulting linked list with the digits of the sum\n",
        "    head = Node(None)\n",
        "    if num_sum == 0:\n",
        "        return head\n",
        "    while num_sum > 0:\n",
        "        digit = num_sum % 10\n",
        "        num_sum //= 10\n",
        "        new_node = Node(digit)\n",
        "        new_node.next = head.next\n",
        "        head.next = new_node\n",
        "\n",
        "    return head\n",
        "u = Node(None)\n",
        "u.next = Node(1)\n",
        "u.next.next = Node(2)\n",
        "u.next.next.next = Node(3)\n",
        "u.next.next.next.next = Node(4)\n",
        "\n",
        "v = Node(None)\n",
        "v.next = Node(5)\n",
        "v.next.next = Node(6)\n",
        "v.next.next.next = Node(7)\n",
        "v.next.next.next.next = Node(8)\n",
        "\n",
        "result = LL_add(u, v)\n",
        "\n",
        "# Print the result\n",
        "curr = result.next\n",
        "while curr:\n",
        "    print(curr.data, end='')\n",
        "    curr = curr.next\n",
        "print()\n"
      ],
      "metadata": {
        "colab": {
          "base_uri": "https://localhost:8080/"
        },
        "id": "GPdF4cCGXWJJ",
        "outputId": "62ce018f-320e-4f6a-dd31-9c4f8db0a6c0"
      },
      "execution_count": 15,
      "outputs": [
        {
          "output_type": "stream",
          "name": "stdout",
          "text": [
            "6912\n"
          ]
        }
      ]
    },
    {
      "cell_type": "code",
      "source": [
        "#Solution-3:\n",
        "class Node:\n",
        "    def __init__(self, data):\n",
        "        self.data = data\n",
        "        self.next = None\n",
        "\n",
        "def find_monkey_king(n, m):\n",
        "    # create a circular linked list with n nodes\n",
        "    head = Node(0)\n",
        "    curr = head\n",
        "    for i in range(1, n):\n",
        "        curr.next = Node(i)\n",
        "        curr = curr.next\n",
        "    curr.next = head  # make it circular\n",
        "\n",
        "    # range the linked list and eliminate monkeys until only one remains\n",
        "    while curr.next != curr:\n",
        "        for i in range(m - 1):\n",
        "            curr = curr.next\n",
        "        curr.next = curr.next.next\n",
        "    return curr.data\n",
        "\n",
        "# get input from user\n",
        "n = int(input(\"Enter total number of monkeys in a group: \"))\n",
        "m = int(input(\"Enter m value: \"))\n",
        "\n",
        "# find the monkey king and print the result\n",
        "king = find_monkey_king(n, m)\n",
        "print(\"The king will be\", king)\n"
      ],
      "metadata": {
        "colab": {
          "base_uri": "https://localhost:8080/"
        },
        "id": "CK9O7JHlYzRv",
        "outputId": "eff0483e-0274-4781-b0a0-01f615ec4ecb"
      },
      "execution_count": 43,
      "outputs": [
        {
          "output_type": "stream",
          "name": "stdout",
          "text": [
            "Enter total number of monkeys in a group: 8\n",
            "Enter m value: 5\n",
            "The king will be 2\n"
          ]
        }
      ]
    },
    {
      "cell_type": "code",
      "source": [
        "#Solution-6:\n",
        "class Node:\n",
        "    def __init__(self, data):\n",
        "        self.data = data\n",
        "        self.next = None\n",
        "\n",
        "def loopLL(head):\n",
        "    # Initialize the happy and hare pointers to the head of the linked list\n",
        "    happy = head\n",
        "    hare = head\n",
        "\n",
        "    # Move the happy one node at a time and the hare two nodes at a time\n",
        "    while hare is not None and hare.next is not None:\n",
        "        happy = happy.next\n",
        "        hare = hare.next.next\n",
        "\n",
        "        # If the happy and hare meet, there is a loop in the linked list\n",
        "        if happy == hare:\n",
        "            return True\n",
        "\n",
        "    # If the hare reaches the end of the linked list, there is no loop\n",
        "    return False\n",
        "# Create a linked list with a loop\n",
        "s = Node(1)\n",
        "w = Node(2)\n",
        "a = Node(3)\n",
        "aa = Node(4)\n",
        "t = Node(5)\n",
        "s.next = w\n",
        "w.next = a\n",
        "a.next = aa\n",
        "aa.next = t\n",
        "t.next = w\n",
        "\n",
        "# Check if there is a loop in the linked list\n",
        "loop_has = loopLL(a)\n",
        "print(loop_has)  \n"
      ],
      "metadata": {
        "colab": {
          "base_uri": "https://localhost:8080/"
        },
        "id": "kt6dyM7-tnQ9",
        "outputId": "93487cc3-c863-4940-c622-6cc8cde1300d"
      },
      "execution_count": 42,
      "outputs": [
        {
          "output_type": "stream",
          "name": "stdout",
          "text": [
            "True\n"
          ]
        }
      ]
    },
    {
      "cell_type": "code",
      "source": [
        "#Solution-7:\n",
        "class Node:\n",
        "    def __init__(self, coeff, exp):\n",
        "        self.coeff = coeff\n",
        "        self.exp = exp\n",
        "        self.next = None\n",
        "\n",
        "def conv_LL(l, m):\n",
        "    result = Node(None, None)\n",
        "\n",
        "    # Iterate through each term in the first polynomial\n",
        "    curr_l = l.next\n",
        "    while curr_l:\n",
        "        # Iterate through each term in the second polynomial\n",
        "        curr_m = m.next\n",
        "        while curr_m:\n",
        "            # Multiply the coefficients and add the exponents\n",
        "            coeff = curr_l.coeff * curr_m.coeff\n",
        "            exp = curr_l.exp + curr_m.exp\n",
        "\n",
        "            # Add the term to the result polynomial\n",
        "            curr_res = result\n",
        "            while curr_res.next and curr_res.next.exp > exp:\n",
        "                curr_res = curr_res.next\n",
        "            if curr_res.next and curr_res.next.exp == exp:\n",
        "                curr_res.next.coeff += coeff\n",
        "            else:\n",
        "                new_node = Node(coeff, exp)\n",
        "                new_node.next = curr_res.next\n",
        "                curr_res.next = new_node\n",
        "\n",
        "            curr_m = curr_m.next\n",
        "\n",
        "        curr_l = curr_l.next\n",
        "\n",
        "    return result.next\n",
        "\n",
        "# Helper function to create a polynomial linked list from a list of (coeff, exp) tuples\n",
        "def create_poly_LL(terms):\n",
        "    head = Node(None, None)\n",
        "    curr = head\n",
        "    for term in terms:\n",
        "        curr.next = Node(term[0], term[1])\n",
        "        curr = curr.next\n",
        "    return head\n",
        "\n",
        "# Test the function\n",
        "l_terms = [(1, 0), (2, 2), (3, 3), (4, 5)]\n",
        "m_terms = [(5, 0), (6, 1), (7, 3), (8, 4)]\n",
        "l = create_poly_LL(l_terms)\n",
        "m = create_poly_LL(m_terms)\n",
        "result = conv_LL(l, m)\n",
        "\n",
        "# Print the result polynomial\n",
        "curr = result\n",
        "while curr:\n",
        "    print(f\"{curr.coeff}x^{curr.exp}\", end=\" + \" if curr.next else \"\")\n",
        "    curr = curr.next\n"
      ],
      "metadata": {
        "colab": {
          "base_uri": "https://localhost:8080/"
        },
        "id": "DEBvSD5b0HcU",
        "outputId": "c266ba5d-4cd9-4120-f11e-024c41bcde49"
      },
      "execution_count": 45,
      "outputs": [
        {
          "output_type": "stream",
          "name": "stdout",
          "text": [
            "32x^9 + 28x^8 + 24x^7 + 61x^6 + 34x^5 + 26x^4 + 34x^3 + 10x^2 + 6x^1 + 5x^0"
          ]
        }
      ]
    }
  ]
}